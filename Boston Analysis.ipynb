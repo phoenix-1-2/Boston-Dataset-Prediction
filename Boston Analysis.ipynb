{
 "cells": [
  {
   "cell_type": "code",
   "execution_count": 61,
   "metadata": {},
   "outputs": [],
   "source": [
    "# importing essential libraries\n",
    "from sklearn.linear_model import LinearRegression\n",
    "from sklearn.tree import DecisionTreeRegressor\n",
    "from sklearn.ensemble import RandomForestRegressor\n",
    "from sklearn.svm import SVR\n",
    "from sklearn.model_selection import cross_val_score\n",
    "from sklearn.model_selection import GridSearchCV\n",
    "import pandas as pd\n",
    "import numpy as np\n",
    "import matplotlib.pyplot as plt\n",
    "import seaborn as sns\n",
    "sns.set()"
   ]
  },
  {
   "cell_type": "code",
   "execution_count": 62,
   "metadata": {},
   "outputs": [
    {
     "data": {
      "text/plain": [
       "0      37.9\n",
       "1      21.4\n",
       "2      12.7\n",
       "3      19.9\n",
       "4      22.5\n",
       "       ... \n",
       "374    50.0\n",
       "375    14.3\n",
       "376    20.8\n",
       "377    22.6\n",
       "378    50.0\n",
       "Name:  Y, Length: 379, dtype: float64"
      ]
     },
     "execution_count": 62,
     "metadata": {},
     "output_type": "execute_result"
    }
   ],
   "source": [
    "training_data = pd.read_csv('Datasets/Train.csv')\n",
    "X_train = training_data.iloc[:,:-1]\n",
    "Y_train = training_data.iloc[:,-1]\n",
    "Y_train"
   ]
  },
  {
   "cell_type": "code",
   "execution_count": 63,
   "metadata": {},
   "outputs": [
    {
     "data": {
      "text/plain": [
       "array([[ 2.91816626, -0.48772236,  1.01599907, ...,  0.80657583,\n",
       "        -1.59755122,  1.04106182],\n",
       "       [-0.40339151, -0.48772236,  0.40609801, ..., -1.13534664,\n",
       "         0.44105193, -0.89473812],\n",
       "       [-0.4131781 , -0.48772236,  0.11573841, ...,  1.17646583,\n",
       "         0.44105193, -0.50084979],\n",
       "       ...,\n",
       "       [-0.41001449,  2.08745172, -1.37837329, ..., -0.0719129 ,\n",
       "         0.39094481, -0.68167397],\n",
       "       [-0.40317611, -0.48772236, -0.37597609, ...,  1.13022958,\n",
       "         0.34007019,  0.20142086],\n",
       "       [-0.13356344, -0.48772236,  1.2319449 , ..., -1.73641788,\n",
       "        -2.93893082,  0.48877712]])"
      ]
     },
     "execution_count": 63,
     "metadata": {},
     "output_type": "execute_result"
    }
   ],
   "source": [
    "X_test = np.genfromtxt('Datasets/Test.csv',delimiter=',')\n",
    "X_test"
   ]
  },
  {
   "cell_type": "code",
   "execution_count": 64,
   "metadata": {},
   "outputs": [
    {
     "data": {
      "text/plain": [
       "0.7139672877781488"
      ]
     },
     "execution_count": 64,
     "metadata": {},
     "output_type": "execute_result"
    }
   ],
   "source": [
    "model1 = LinearRegression()\n",
    "val_score1 = cross_val_score(model1,X_train,Y_train)\n",
    "val_score1.mean()"
   ]
  },
  {
   "cell_type": "code",
   "execution_count": 65,
   "metadata": {},
   "outputs": [
    {
     "data": {
      "text/plain": [
       "0.8476171034125489"
      ]
     },
     "execution_count": 65,
     "metadata": {},
     "output_type": "execute_result"
    }
   ],
   "source": [
    "model2 = RandomForestRegressor()\n",
    "val_score2 = cross_val_score(model2,X_train,Y_train)\n",
    "val_score2.mean()"
   ]
  },
  {
   "cell_type": "code",
   "execution_count": 66,
   "metadata": {},
   "outputs": [
    {
     "data": {
      "text/plain": [
       "0.6274214006252683"
      ]
     },
     "execution_count": 66,
     "metadata": {},
     "output_type": "execute_result"
    }
   ],
   "source": [
    "model3 = DecisionTreeRegressor()\n",
    "val_score3 = cross_val_score(model3,X_train,Y_train)\n",
    "val_score3.mean()"
   ]
  },
  {
   "cell_type": "code",
   "execution_count": 67,
   "metadata": {},
   "outputs": [
    {
     "data": {
      "text/plain": [
       "0.6061106856338765"
      ]
     },
     "execution_count": 67,
     "metadata": {},
     "output_type": "execute_result"
    }
   ],
   "source": [
    "model4 = SVR()\n",
    "val_score3 = cross_val_score(model4,X_train,Y_train)\n",
    "val_score3.mean()"
   ]
  },
  {
   "cell_type": "code",
   "execution_count": 68,
   "metadata": {},
   "outputs": [
    {
     "data": {
      "text/plain": [
       "0.8508035021422238"
      ]
     },
     "execution_count": 68,
     "metadata": {},
     "output_type": "execute_result"
    }
   ],
   "source": [
    "model2 = RandomForestRegressor(n_estimators=1000)\n",
    "val_score2 = cross_val_score(model2,X_train,Y_train)\n",
    "val_score2.mean()"
   ]
  },
  {
   "cell_type": "code",
   "execution_count": 69,
   "metadata": {},
   "outputs": [
    {
     "data": {
      "text/plain": [
       "SVR(C=100, gamma=0.05)"
      ]
     },
     "execution_count": 69,
     "metadata": {},
     "output_type": "execute_result"
    }
   ],
   "source": [
    "model4 = SVR()\n",
    "grid = GridSearchCV(model4,{\n",
    "    'gamma' : [0.01,0.05,0.1,0.001,0.0001,0.005,0.0005],\n",
    "    'C':[1,10,100,1000,10000]\n",
    "})\n",
    "grid.fit(X_train,Y_train)\n",
    "grid.best_estimator_"
   ]
  },
  {
   "cell_type": "code",
   "execution_count": 70,
   "metadata": {},
   "outputs": [
    {
     "data": {
      "text/plain": [
       "0.8574923986563286"
      ]
     },
     "execution_count": 70,
     "metadata": {},
     "output_type": "execute_result"
    }
   ],
   "source": [
    "# Best \n",
    "model4  =SVR(C=100, gamma=0.05)\n",
    "cross_val_score(model4,X_train,Y_train).mean()"
   ]
  },
  {
   "cell_type": "code",
   "execution_count": 71,
   "metadata": {},
   "outputs": [
    {
     "data": {
      "text/plain": [
       "array([15.71344006, 29.23620679, 19.42422692, 20.15789401, 23.9755929 ,\n",
       "       10.95177983, 27.57712245, 26.8992127 , 17.90494164, 20.85529317,\n",
       "       23.38945342, 16.47460003, 17.90723338, 20.29799122, 52.83324693,\n",
       "       20.31742335, 24.05144781, 25.64031481, 17.23567158, 28.93991082,\n",
       "       20.68303772, 20.07764864, 36.79369749, 32.1184848 , 32.80163464,\n",
       "       18.51773842, 22.76808609, 29.03081481, 18.2684401 , 27.86685439,\n",
       "       16.78548663, 25.34041563, 23.25622257, 23.85082127,  8.7066897 ,\n",
       "       25.98229961, 23.32795116, 19.84654291, 21.55996924,  9.00292285,\n",
       "       11.65306576, 26.69344137, 25.16847597, 19.98374162, 21.50803035,\n",
       "       11.23798438, 42.18241095, 22.32689815, 32.87685357, 11.987862  ,\n",
       "       14.70909089, 47.39008638, 12.13120121, 20.51926243, 15.00598058,\n",
       "       20.72388863, 18.16811649, 22.87327482, 14.62991722, 12.7637226 ,\n",
       "       11.81161669, 24.78767218, 23.97114053, 24.3810145 , 15.77453069,\n",
       "        9.8874001 , 35.08368392, 13.60233048, 20.35736401, 23.15315255,\n",
       "       28.71549071, 25.10879551, 16.25596413,  5.76600129, 40.30510969,\n",
       "       24.75763979, 27.12934711, 25.26866833,  9.84845351, 32.57930346,\n",
       "       20.20061645, 20.00327338, 18.18132437, 17.30059142, 16.12307228,\n",
       "       31.48987975, 26.26687092,  9.61331914, 21.77299605, 17.77595423,\n",
       "       21.16210954, 19.07944118, 17.61915285, 12.31917385, 18.65928542,\n",
       "       28.79240454, 47.76138497, 19.57542485, 36.05504766, 21.56956776,\n",
       "       19.78499318, 19.35405695, 21.95601018, 30.08505748, 13.56955115,\n",
       "       23.93928926, 18.54200083, 43.39469474, 21.2856381 , 14.58342754,\n",
       "       23.67593516, 14.30579969, 17.24976382, 20.86151018, 45.1338853 ,\n",
       "       22.41342603, 19.19581141, 26.62121662, 18.80648993, 15.39726783,\n",
       "       13.70136794, 34.80365905, 19.67667015, 22.09756124, 19.9360905 ,\n",
       "       21.12058642, 16.79458024])"
      ]
     },
     "execution_count": 71,
     "metadata": {},
     "output_type": "execute_result"
    }
   ],
   "source": [
    "model4.fit(X_train,Y_train)\n",
    "model4.predict(X_test)"
   ]
  },
  {
   "cell_type": "code",
   "execution_count": 72,
   "metadata": {},
   "outputs": [
    {
     "data": {
      "text/plain": [
       "127"
      ]
     },
     "execution_count": 72,
     "metadata": {},
     "output_type": "execute_result"
    }
   ],
   "source": [
    "len(model4.predict(X_test))"
   ]
  },
  {
   "cell_type": "code",
   "execution_count": 73,
   "metadata": {},
   "outputs": [],
   "source": [
    "np.savetxt('prediction.csv',list(model4.predict(X_test)),delimiter=',',fmt='%.1f' )"
   ]
  },
  {
   "cell_type": "code",
   "execution_count": 74,
   "metadata": {},
   "outputs": [],
   "source": [
    "# Testing Score : 0.92895"
   ]
  }
 ],
 "metadata": {
  "kernelspec": {
   "display_name": "Python 3",
   "language": "python",
   "name": "python3"
  },
  "language_info": {
   "codemirror_mode": {
    "name": "ipython",
    "version": 3
   },
   "file_extension": ".py",
   "mimetype": "text/x-python",
   "name": "python",
   "nbconvert_exporter": "python",
   "pygments_lexer": "ipython3",
   "version": "3.8.3"
  }
 },
 "nbformat": 4,
 "nbformat_minor": 4
}
